{
 "cells": [
  {
   "cell_type": "code",
   "execution_count": 1,
   "id": "edd339c8",
   "metadata": {},
   "outputs": [
    {
     "name": "stdout",
     "output_type": "stream",
     "text": [
      "Collecting spacy\n",
      "  Downloading spacy-3.7.6-cp310-cp310-win_amd64.whl.metadata (27 kB)\n",
      "Collecting spacy-legacy<3.1.0,>=3.0.11 (from spacy)\n",
      "  Downloading spacy_legacy-3.0.12-py2.py3-none-any.whl.metadata (2.8 kB)\n",
      "Collecting spacy-loggers<2.0.0,>=1.0.0 (from spacy)\n",
      "  Downloading spacy_loggers-1.0.5-py3-none-any.whl.metadata (23 kB)\n",
      "Collecting murmurhash<1.1.0,>=0.28.0 (from spacy)\n",
      "  Downloading murmurhash-1.0.10-cp310-cp310-win_amd64.whl.metadata (2.0 kB)\n",
      "Collecting cymem<2.1.0,>=2.0.2 (from spacy)\n",
      "  Downloading cymem-2.0.8-cp310-cp310-win_amd64.whl.metadata (8.6 kB)\n",
      "Collecting preshed<3.1.0,>=3.0.2 (from spacy)\n",
      "  Downloading preshed-3.0.9-cp310-cp310-win_amd64.whl.metadata (2.2 kB)\n",
      "Collecting thinc<8.3.0,>=8.2.2 (from spacy)\n",
      "  Downloading thinc-8.2.5-cp310-cp310-win_amd64.whl.metadata (15 kB)\n",
      "Collecting wasabi<1.2.0,>=0.9.1 (from spacy)\n",
      "  Downloading wasabi-1.1.3-py3-none-any.whl.metadata (28 kB)\n",
      "Collecting srsly<3.0.0,>=2.4.3 (from spacy)\n",
      "  Downloading srsly-2.4.8-cp310-cp310-win_amd64.whl.metadata (20 kB)\n",
      "Collecting catalogue<2.1.0,>=2.0.6 (from spacy)\n",
      "  Downloading catalogue-2.0.10-py3-none-any.whl.metadata (14 kB)\n",
      "Collecting weasel<0.5.0,>=0.1.0 (from spacy)\n",
      "  Downloading weasel-0.4.1-py3-none-any.whl.metadata (4.6 kB)\n",
      "Collecting typer<1.0.0,>=0.3.0 (from spacy)\n",
      "  Downloading typer-0.12.5-py3-none-any.whl.metadata (15 kB)\n",
      "Requirement already satisfied: tqdm<5.0.0,>=4.38.0 in c:\\users\\mahfooz alam\\anaconda3\\lib\\site-packages (from spacy) (4.64.1)\n",
      "Requirement already satisfied: requests<3.0.0,>=2.13.0 in c:\\users\\mahfooz alam\\anaconda3\\lib\\site-packages (from spacy) (2.31.0)\n",
      "Requirement already satisfied: pydantic!=1.8,!=1.8.1,<3.0.0,>=1.7.4 in c:\\users\\mahfooz alam\\anaconda3\\lib\\site-packages (from spacy) (2.6.4)\n",
      "Requirement already satisfied: jinja2 in c:\\users\\mahfooz alam\\anaconda3\\lib\\site-packages (from spacy) (3.1.2)\n",
      "Requirement already satisfied: setuptools in c:\\users\\mahfooz alam\\anaconda3\\lib\\site-packages (from spacy) (68.1.2)\n",
      "Requirement already satisfied: packaging>=20.0 in c:\\users\\mahfooz alam\\anaconda3\\lib\\site-packages (from spacy) (23.2)\n",
      "Collecting langcodes<4.0.0,>=3.2.0 (from spacy)\n",
      "  Downloading langcodes-3.4.0-py3-none-any.whl.metadata (29 kB)\n",
      "Requirement already satisfied: numpy>=1.19.0 in c:\\users\\mahfooz alam\\anaconda3\\lib\\site-packages (from spacy) (1.26.4)\n",
      "Collecting language-data>=1.2 (from langcodes<4.0.0,>=3.2.0->spacy)\n",
      "  Downloading language_data-1.2.0-py3-none-any.whl.metadata (4.3 kB)\n",
      "Requirement already satisfied: annotated-types>=0.4.0 in c:\\users\\mahfooz alam\\anaconda3\\lib\\site-packages (from pydantic!=1.8,!=1.8.1,<3.0.0,>=1.7.4->spacy) (0.6.0)\n",
      "Requirement already satisfied: pydantic-core==2.16.3 in c:\\users\\mahfooz alam\\anaconda3\\lib\\site-packages (from pydantic!=1.8,!=1.8.1,<3.0.0,>=1.7.4->spacy) (2.16.3)\n",
      "Requirement already satisfied: typing-extensions>=4.6.1 in c:\\users\\mahfooz alam\\anaconda3\\lib\\site-packages (from pydantic!=1.8,!=1.8.1,<3.0.0,>=1.7.4->spacy) (4.10.0)\n",
      "Requirement already satisfied: charset-normalizer<4,>=2 in c:\\users\\mahfooz alam\\anaconda3\\lib\\site-packages (from requests<3.0.0,>=2.13.0->spacy) (2.0.4)\n",
      "Requirement already satisfied: idna<4,>=2.5 in c:\\users\\mahfooz alam\\anaconda3\\lib\\site-packages (from requests<3.0.0,>=2.13.0->spacy) (3.4)\n",
      "Requirement already satisfied: urllib3<3,>=1.21.1 in c:\\users\\mahfooz alam\\anaconda3\\lib\\site-packages (from requests<3.0.0,>=2.13.0->spacy) (1.26.14)\n",
      "Requirement already satisfied: certifi>=2017.4.17 in c:\\users\\mahfooz alam\\anaconda3\\lib\\site-packages (from requests<3.0.0,>=2.13.0->spacy) (2023.5.7)\n",
      "Collecting blis<0.8.0,>=0.7.8 (from thinc<8.3.0,>=8.2.2->spacy)\n",
      "  Downloading blis-0.7.11-cp310-cp310-win_amd64.whl.metadata (7.6 kB)\n",
      "Collecting confection<1.0.0,>=0.0.1 (from thinc<8.3.0,>=8.2.2->spacy)\n",
      "  Downloading confection-0.1.5-py3-none-any.whl.metadata (19 kB)\n",
      "Requirement already satisfied: colorama in c:\\users\\mahfooz alam\\anaconda3\\lib\\site-packages (from tqdm<5.0.0,>=4.38.0->spacy) (0.4.6)\n",
      "Requirement already satisfied: click>=8.0.0 in c:\\users\\mahfooz alam\\anaconda3\\lib\\site-packages (from typer<1.0.0,>=0.3.0->spacy) (8.0.4)\n",
      "Collecting shellingham>=1.3.0 (from typer<1.0.0,>=0.3.0->spacy)\n",
      "  Downloading shellingham-1.5.4-py2.py3-none-any.whl.metadata (3.5 kB)\n",
      "Requirement already satisfied: rich>=10.11.0 in c:\\users\\mahfooz alam\\anaconda3\\lib\\site-packages (from typer<1.0.0,>=0.3.0->spacy) (13.6.0)\n",
      "Collecting cloudpathlib<1.0.0,>=0.7.0 (from weasel<0.5.0,>=0.1.0->spacy)\n",
      "  Downloading cloudpathlib-0.19.0-py3-none-any.whl.metadata (14 kB)\n",
      "Requirement already satisfied: smart-open<8.0.0,>=5.2.1 in c:\\users\\mahfooz alam\\anaconda3\\lib\\site-packages (from weasel<0.5.0,>=0.1.0->spacy) (5.2.1)\n",
      "Requirement already satisfied: MarkupSafe>=2.0 in c:\\users\\mahfooz alam\\anaconda3\\lib\\site-packages (from jinja2->spacy) (2.1.1)\n",
      "Collecting marisa-trie>=0.7.7 (from language-data>=1.2->langcodes<4.0.0,>=3.2.0->spacy)\n",
      "  Downloading marisa_trie-1.2.0-cp310-cp310-win_amd64.whl.metadata (9.0 kB)\n",
      "Requirement already satisfied: markdown-it-py>=2.2.0 in c:\\users\\mahfooz alam\\anaconda3\\lib\\site-packages (from rich>=10.11.0->typer<1.0.0,>=0.3.0->spacy) (3.0.0)\n",
      "Requirement already satisfied: pygments<3.0.0,>=2.13.0 in c:\\users\\mahfooz alam\\anaconda3\\lib\\site-packages (from rich>=10.11.0->typer<1.0.0,>=0.3.0->spacy) (2.16.1)\n",
      "Requirement already satisfied: mdurl~=0.1 in c:\\users\\mahfooz alam\\anaconda3\\lib\\site-packages (from markdown-it-py>=2.2.0->rich>=10.11.0->typer<1.0.0,>=0.3.0->spacy) (0.1.2)\n",
      "Downloading spacy-3.7.6-cp310-cp310-win_amd64.whl (12.1 MB)\n",
      "   ---------------------------------------- 0.0/12.1 MB ? eta -:--:--\n",
      "   -- ------------------------------------- 0.8/12.1 MB 4.8 MB/s eta 0:00:03\n",
      "   -------- ------------------------------- 2.6/12.1 MB 8.4 MB/s eta 0:00:02\n",
      "   ---------------- ----------------------- 5.0/12.1 MB 8.9 MB/s eta 0:00:01\n",
      "   ----------------------- ---------------- 7.1/12.1 MB 9.3 MB/s eta 0:00:01\n",
      "   ------------------------------ --------- 9.2/12.1 MB 9.7 MB/s eta 0:00:01\n",
      "   -------------------------------------- - 11.5/12.1 MB 9.9 MB/s eta 0:00:01\n",
      "   ---------------------------------------- 12.1/12.1 MB 9.4 MB/s eta 0:00:00\n",
      "Downloading catalogue-2.0.10-py3-none-any.whl (17 kB)\n",
      "Downloading cymem-2.0.8-cp310-cp310-win_amd64.whl (39 kB)\n",
      "Downloading langcodes-3.4.0-py3-none-any.whl (182 kB)\n",
      "Downloading murmurhash-1.0.10-cp310-cp310-win_amd64.whl (25 kB)\n",
      "Downloading preshed-3.0.9-cp310-cp310-win_amd64.whl (122 kB)\n",
      "Downloading spacy_legacy-3.0.12-py2.py3-none-any.whl (29 kB)\n",
      "Downloading spacy_loggers-1.0.5-py3-none-any.whl (22 kB)\n",
      "Downloading srsly-2.4.8-cp310-cp310-win_amd64.whl (481 kB)\n",
      "Downloading thinc-8.2.5-cp310-cp310-win_amd64.whl (1.5 MB)\n",
      "   ---------------------------------------- 0.0/1.5 MB ? eta -:--:--\n",
      "   ---------------------------------------- 1.5/1.5 MB 8.7 MB/s eta 0:00:00\n",
      "Downloading typer-0.12.5-py3-none-any.whl (47 kB)\n",
      "Downloading wasabi-1.1.3-py3-none-any.whl (27 kB)\n",
      "Downloading weasel-0.4.1-py3-none-any.whl (50 kB)\n",
      "Downloading blis-0.7.11-cp310-cp310-win_amd64.whl (6.6 MB)\n",
      "   ---------------------------------------- 0.0/6.6 MB ? eta -:--:--\n",
      "   -------------- ------------------------- 2.4/6.6 MB 11.2 MB/s eta 0:00:01\n",
      "   ---------------------------- ----------- 4.7/6.6 MB 11.4 MB/s eta 0:00:01\n",
      "   ---------------------------------------- 6.6/6.6 MB 11.0 MB/s eta 0:00:00\n",
      "Downloading cloudpathlib-0.19.0-py3-none-any.whl (49 kB)\n",
      "Downloading confection-0.1.5-py3-none-any.whl (35 kB)\n",
      "Downloading language_data-1.2.0-py3-none-any.whl (5.4 MB)\n",
      "   ---------------------------------------- 0.0/5.4 MB ? eta -:--:--\n",
      "   ----------------- ---------------------- 2.4/5.4 MB 11.2 MB/s eta 0:00:01\n",
      "   ----------------------------------- ---- 4.7/5.4 MB 11.0 MB/s eta 0:00:01\n",
      "   ---------------------------------------- 5.4/5.4 MB 9.9 MB/s eta 0:00:00\n",
      "Downloading shellingham-1.5.4-py2.py3-none-any.whl (9.8 kB)\n",
      "Downloading marisa_trie-1.2.0-cp310-cp310-win_amd64.whl (152 kB)\n",
      "Installing collected packages: cymem, wasabi, spacy-loggers, spacy-legacy, shellingham, murmurhash, marisa-trie, cloudpathlib, catalogue, blis, srsly, preshed, language-data, typer, langcodes, confection, weasel, thinc, spacy\n",
      "Successfully installed blis-0.7.11 catalogue-2.0.10 cloudpathlib-0.19.0 confection-0.1.5 cymem-2.0.8 langcodes-3.4.0 language-data-1.2.0 marisa-trie-1.2.0 murmurhash-1.0.10 preshed-3.0.9 shellingham-1.5.4 spacy-3.7.6 spacy-legacy-3.0.12 spacy-loggers-1.0.5 srsly-2.4.8 thinc-8.2.5 typer-0.12.5 wasabi-1.1.3 weasel-0.4.1\n"
     ]
    },
    {
     "name": "stderr",
     "output_type": "stream",
     "text": [
      "WARNING: Ignoring invalid distribution -illow (c:\\users\\mahfooz alam\\anaconda3\\lib\\site-packages)\n",
      "WARNING: Ignoring invalid distribution -rotobuf (c:\\users\\mahfooz alam\\anaconda3\\lib\\site-packages)\n",
      "WARNING: Ignoring invalid distribution -illow (c:\\users\\mahfooz alam\\anaconda3\\lib\\site-packages)\n",
      "WARNING: Ignoring invalid distribution -rotobuf (c:\\users\\mahfooz alam\\anaconda3\\lib\\site-packages)\n",
      "WARNING: Ignoring invalid distribution -illow (c:\\users\\mahfooz alam\\anaconda3\\lib\\site-packages)\n",
      "WARNING: Ignoring invalid distribution -rotobuf (c:\\users\\mahfooz alam\\anaconda3\\lib\\site-packages)\n"
     ]
    }
   ],
   "source": [
    "!pip install spacy"
   ]
  },
  {
   "cell_type": "code",
   "execution_count": 2,
   "id": "c9bfebe5",
   "metadata": {},
   "outputs": [],
   "source": [
    "import spacy"
   ]
  },
  {
   "cell_type": "code",
   "execution_count": 3,
   "id": "8c21d1fb",
   "metadata": {},
   "outputs": [],
   "source": [
    "import nltk"
   ]
  },
  {
   "cell_type": "code",
   "execution_count": 4,
   "id": "2ab9a2fd",
   "metadata": {},
   "outputs": [
    {
     "name": "stdout",
     "output_type": "stream",
     "text": [
      "Collecting en-core-web-lg==3.7.1\n",
      "  Downloading https://github.com/explosion/spacy-models/releases/download/en_core_web_lg-3.7.1/en_core_web_lg-3.7.1-py3-none-any.whl (587.7 MB)\n",
      "     ---------------------------------------- 0.0/587.7 MB ? eta -:--:--\n",
      "     --------------------------------------- 2.4/587.7 MB 11.2 MB/s eta 0:00:53\n",
      "     --------------------------------------- 5.0/587.7 MB 11.6 MB/s eta 0:00:51\n",
      "      -------------------------------------- 7.6/587.7 MB 11.7 MB/s eta 0:00:50\n",
      "      ------------------------------------- 10.0/587.7 MB 11.7 MB/s eta 0:00:50\n",
      "      ------------------------------------- 11.5/587.7 MB 10.6 MB/s eta 0:00:55\n",
      "      ------------------------------------- 13.9/587.7 MB 10.9 MB/s eta 0:00:53\n",
      "     - ------------------------------------ 16.5/587.7 MB 11.0 MB/s eta 0:00:53\n",
      "     - ------------------------------------ 19.1/587.7 MB 11.1 MB/s eta 0:00:52\n",
      "     - ------------------------------------ 21.0/587.7 MB 11.1 MB/s eta 0:00:51\n",
      "     - ------------------------------------ 23.1/587.7 MB 10.7 MB/s eta 0:00:53\n",
      "     - ------------------------------------ 25.7/587.7 MB 10.9 MB/s eta 0:00:52\n",
      "     - ------------------------------------ 28.3/587.7 MB 10.9 MB/s eta 0:00:52\n",
      "     - ------------------------------------ 30.7/587.7 MB 11.0 MB/s eta 0:00:51\n",
      "     -- ----------------------------------- 32.2/587.7 MB 10.7 MB/s eta 0:00:52\n",
      "     -- ----------------------------------- 34.6/587.7 MB 10.8 MB/s eta 0:00:52\n",
      "     -- ----------------------------------- 37.2/587.7 MB 10.9 MB/s eta 0:00:51\n",
      "     -- ----------------------------------- 39.8/587.7 MB 10.9 MB/s eta 0:00:51\n",
      "     -- ----------------------------------- 41.9/587.7 MB 10.9 MB/s eta 0:00:50\n",
      "     -- ----------------------------------- 43.8/587.7 MB 10.7 MB/s eta 0:00:51\n",
      "     -- ----------------------------------- 46.1/587.7 MB 10.8 MB/s eta 0:00:51\n",
      "     --- ---------------------------------- 48.8/587.7 MB 10.8 MB/s eta 0:00:50\n",
      "     --- ---------------------------------- 50.3/587.7 MB 10.7 MB/s eta 0:00:51\n",
      "     --- ---------------------------------- 52.4/587.7 MB 10.7 MB/s eta 0:00:50\n",
      "     --- ---------------------------------- 54.3/587.7 MB 10.6 MB/s eta 0:00:51\n",
      "     --- ---------------------------------- 56.9/587.7 MB 10.6 MB/s eta 0:00:51\n",
      "     --- ---------------------------------- 59.5/587.7 MB 10.7 MB/s eta 0:00:50\n",
      "     ---- --------------------------------- 61.9/587.7 MB 10.7 MB/s eta 0:00:50\n",
      "     ---- --------------------------------- 63.4/587.7 MB 10.6 MB/s eta 0:00:50\n",
      "     ---- --------------------------------- 66.1/587.7 MB 10.6 MB/s eta 0:00:50\n",
      "     ---- --------------------------------- 68.2/587.7 MB 10.6 MB/s eta 0:00:50\n",
      "     ---- --------------------------------- 70.5/587.7 MB 10.6 MB/s eta 0:00:49\n",
      "     ---- --------------------------------- 73.1/587.7 MB 10.7 MB/s eta 0:00:49\n",
      "     ---- --------------------------------- 74.4/587.7 MB 10.6 MB/s eta 0:00:49\n",
      "     ---- --------------------------------- 77.1/587.7 MB 10.6 MB/s eta 0:00:49\n",
      "     ----- -------------------------------- 79.7/587.7 MB 10.6 MB/s eta 0:00:48\n",
      "     ----- -------------------------------- 82.1/587.7 MB 10.7 MB/s eta 0:00:48\n",
      "     ----- -------------------------------- 83.9/587.7 MB 10.7 MB/s eta 0:00:48\n",
      "     ----- -------------------------------- 86.2/587.7 MB 10.6 MB/s eta 0:00:48\n",
      "     ----- -------------------------------- 88.9/587.7 MB 10.6 MB/s eta 0:00:47\n",
      "     ----- -------------------------------- 91.0/587.7 MB 10.6 MB/s eta 0:00:47\n",
      "     ------ ------------------------------- 93.3/587.7 MB 10.7 MB/s eta 0:00:47\n",
      "     ------ ------------------------------- 94.9/587.7 MB 10.6 MB/s eta 0:00:47\n",
      "     ------ ------------------------------- 97.3/587.7 MB 10.6 MB/s eta 0:00:47\n",
      "     ------ ------------------------------- 99.6/587.7 MB 10.6 MB/s eta 0:00:47\n",
      "     ------ ------------------------------ 102.2/587.7 MB 10.6 MB/s eta 0:00:46\n",
      "     ------ ------------------------------ 104.6/587.7 MB 10.7 MB/s eta 0:00:46\n",
      "     ------ ------------------------------ 106.2/587.7 MB 10.6 MB/s eta 0:00:46\n",
      "     ------ ------------------------------ 108.5/587.7 MB 10.6 MB/s eta 0:00:46\n",
      "     ------ ------------------------------ 111.1/587.7 MB 10.6 MB/s eta 0:00:45\n",
      "     ------- ----------------------------- 113.5/587.7 MB 10.6 MB/s eta 0:00:45\n",
      "     ------- ----------------------------- 115.3/587.7 MB 10.6 MB/s eta 0:00:45\n",
      "     ------- ----------------------------- 117.4/587.7 MB 10.6 MB/s eta 0:00:45\n",
      "     ------- ----------------------------- 120.1/587.7 MB 10.6 MB/s eta 0:00:45\n",
      "     ------- ----------------------------- 122.7/587.7 MB 10.6 MB/s eta 0:00:44\n",
      "     ------- ----------------------------- 124.8/587.7 MB 10.6 MB/s eta 0:00:44\n",
      "     ------- ----------------------------- 126.6/587.7 MB 10.6 MB/s eta 0:00:44\n",
      "     -------- ---------------------------- 129.2/587.7 MB 10.6 MB/s eta 0:00:44\n",
      "     -------- ---------------------------- 131.9/587.7 MB 10.6 MB/s eta 0:00:43\n",
      "     -------- ---------------------------- 134.2/587.7 MB 10.6 MB/s eta 0:00:43\n",
      "     -------- ---------------------------- 136.3/587.7 MB 10.7 MB/s eta 0:00:43\n",
      "     -------- ---------------------------- 138.4/587.7 MB 10.6 MB/s eta 0:00:43\n",
      "     -------- ---------------------------- 141.0/587.7 MB 10.6 MB/s eta 0:00:43\n",
      "     -------- ---------------------------- 142.9/587.7 MB 10.6 MB/s eta 0:00:42\n",
      "     --------- --------------------------- 145.0/587.7 MB 10.6 MB/s eta 0:00:42\n",
      "     --------- --------------------------- 146.8/587.7 MB 10.6 MB/s eta 0:00:42\n",
      "     --------- --------------------------- 148.9/587.7 MB 10.5 MB/s eta 0:00:42\n",
      "     --------- --------------------------- 151.5/587.7 MB 10.6 MB/s eta 0:00:42\n",
      "     --------- --------------------------- 154.1/587.7 MB 10.6 MB/s eta 0:00:41\n",
      "     --------- --------------------------- 156.0/587.7 MB 10.6 MB/s eta 0:00:41\n",
      "     --------- --------------------------- 157.8/587.7 MB 10.5 MB/s eta 0:00:41\n",
      "     ---------- -------------------------- 160.4/587.7 MB 10.6 MB/s eta 0:00:41\n",
      "     ---------- -------------------------- 162.8/587.7 MB 10.6 MB/s eta 0:00:41\n",
      "     ---------- -------------------------- 165.4/587.7 MB 10.6 MB/s eta 0:00:40\n",
      "     ---------- -------------------------- 167.8/587.7 MB 10.6 MB/s eta 0:00:40\n",
      "     ---------- -------------------------- 169.3/587.7 MB 10.6 MB/s eta 0:00:40\n",
      "     ---------- -------------------------- 172.0/587.7 MB 10.6 MB/s eta 0:00:40\n",
      "     ---------- -------------------------- 174.3/587.7 MB 10.6 MB/s eta 0:00:40\n",
      "     ----------- ------------------------- 176.4/587.7 MB 10.6 MB/s eta 0:00:39\n",
      "     ----------- ------------------------- 178.3/587.7 MB 10.6 MB/s eta 0:00:39\n",
      "     ----------- ------------------------- 180.4/587.7 MB 10.5 MB/s eta 0:00:39\n",
      "     ----------- ------------------------- 182.7/587.7 MB 10.5 MB/s eta 0:00:39\n",
      "     ----------- ------------------------- 185.3/587.7 MB 10.6 MB/s eta 0:00:39\n",
      "     ----------- ------------------------- 187.7/587.7 MB 10.6 MB/s eta 0:00:38\n",
      "     ----------- ------------------------- 189.5/587.7 MB 10.5 MB/s eta 0:00:38\n",
      "     ------------ ------------------------ 192.2/587.7 MB 10.6 MB/s eta 0:00:38\n",
      "     ------------ ------------------------ 194.5/587.7 MB 10.6 MB/s eta 0:00:38\n",
      "     ------------ ------------------------ 196.9/587.7 MB 10.6 MB/s eta 0:00:37\n",
      "     ------------ ------------------------ 199.2/587.7 MB 10.6 MB/s eta 0:00:37\n",
      "     ------------ ------------------------ 200.8/587.7 MB 10.6 MB/s eta 0:00:37\n",
      "     ------------ ------------------------ 203.2/587.7 MB 10.6 MB/s eta 0:00:37\n",
      "     ------------ ------------------------ 205.8/587.7 MB 10.6 MB/s eta 0:00:37\n",
      "     ------------- ----------------------- 208.1/587.7 MB 10.6 MB/s eta 0:00:36\n",
      "     ------------- ----------------------- 209.7/587.7 MB 10.6 MB/s eta 0:00:36\n",
      "     ------------- ----------------------- 212.3/587.7 MB 10.6 MB/s eta 0:00:36\n",
      "     ------------- ----------------------- 215.0/587.7 MB 10.6 MB/s eta 0:00:36\n",
      "     ------------- ----------------------- 217.6/587.7 MB 10.6 MB/s eta 0:00:35\n",
      "     ------------- ----------------------- 220.2/587.7 MB 10.6 MB/s eta 0:00:35\n",
      "     ------------- ----------------------- 221.5/587.7 MB 10.6 MB/s eta 0:00:35\n",
      "     -------------- ---------------------- 223.9/587.7 MB 10.6 MB/s eta 0:00:35\n",
      "     -------------- ---------------------- 226.5/587.7 MB 10.6 MB/s eta 0:00:35\n",
      "     -------------- ---------------------- 228.9/587.7 MB 10.6 MB/s eta 0:00:34\n",
      "     -------------- ---------------------- 230.7/587.7 MB 10.6 MB/s eta 0:00:34\n",
      "     -------------- ---------------------- 233.3/587.7 MB 10.6 MB/s eta 0:00:34\n",
      "     -------------- ---------------------- 235.9/587.7 MB 10.6 MB/s eta 0:00:34\n",
      "     --------------- --------------------- 238.3/587.7 MB 10.6 MB/s eta 0:00:33\n",
      "     --------------- --------------------- 240.9/587.7 MB 10.6 MB/s eta 0:00:33\n",
      "     --------------- --------------------- 242.5/587.7 MB 10.6 MB/s eta 0:00:33\n",
      "     --------------- --------------------- 245.1/587.7 MB 10.6 MB/s eta 0:00:33\n",
      "     --------------- --------------------- 247.5/587.7 MB 10.6 MB/s eta 0:00:33\n",
      "     --------------- --------------------- 250.1/587.7 MB 10.6 MB/s eta 0:00:32\n",
      "     --------------- --------------------- 251.7/587.7 MB 10.6 MB/s eta 0:00:32\n",
      "     --------------- --------------------- 253.8/587.7 MB 10.6 MB/s eta 0:00:32\n",
      "     ---------------- -------------------- 256.4/587.7 MB 10.6 MB/s eta 0:00:32\n",
      "     ---------------- -------------------- 257.4/587.7 MB 10.6 MB/s eta 0:00:32\n",
      "     ---------------- -------------------- 259.3/587.7 MB 10.6 MB/s eta 0:00:32\n",
      "     ---------------- -------------------- 261.1/587.7 MB 10.5 MB/s eta 0:00:31\n",
      "     ---------------- -------------------- 262.7/587.7 MB 10.5 MB/s eta 0:00:31\n",
      "     ---------------- -------------------- 265.3/587.7 MB 10.5 MB/s eta 0:00:31\n",
      "     ---------------- -------------------- 267.9/587.7 MB 10.5 MB/s eta 0:00:31\n",
      "     ----------------- ------------------- 270.3/587.7 MB 10.5 MB/s eta 0:00:31\n",
      "     ----------------- ------------------- 272.6/587.7 MB 10.5 MB/s eta 0:00:30\n",
      "     ----------------- ------------------- 274.5/587.7 MB 10.5 MB/s eta 0:00:30\n",
      "     ----------------- ------------------- 277.1/587.7 MB 10.5 MB/s eta 0:00:30\n",
      "     ----------------- ------------------- 279.4/587.7 MB 10.5 MB/s eta 0:00:30\n",
      "     ----------------- ------------------- 282.1/587.7 MB 10.5 MB/s eta 0:00:30\n",
      "     ----------------- ------------------- 283.6/587.7 MB 10.5 MB/s eta 0:00:29\n",
      "     ------------------ ------------------ 286.0/587.7 MB 10.5 MB/s eta 0:00:29\n",
      "     ------------------ ------------------ 288.1/587.7 MB 10.5 MB/s eta 0:00:29\n",
      "     ------------------ ------------------ 290.5/587.7 MB 10.5 MB/s eta 0:00:29\n",
      "     ------------------ ------------------ 292.6/587.7 MB 10.5 MB/s eta 0:00:29\n",
      "     ------------------ ------------------ 293.9/587.7 MB 10.5 MB/s eta 0:00:29\n",
      "     ------------------ ------------------ 296.5/587.7 MB 10.5 MB/s eta 0:00:28\n",
      "     ------------------ ------------------ 299.1/587.7 MB 10.5 MB/s eta 0:00:28\n",
      "     ------------------ ------------------ 301.7/587.7 MB 10.5 MB/s eta 0:00:28\n",
      "     ------------------- ----------------- 303.8/587.7 MB 10.5 MB/s eta 0:00:28\n",
      "     ------------------- ----------------- 305.7/587.7 MB 10.5 MB/s eta 0:00:27\n",
      "     ------------------- ----------------- 308.3/587.7 MB 10.5 MB/s eta 0:00:27\n",
      "     ------------------- ----------------- 310.6/587.7 MB 10.5 MB/s eta 0:00:27\n",
      "     ------------------- ----------------- 313.3/587.7 MB 10.5 MB/s eta 0:00:27\n",
      "     ------------------- ----------------- 314.6/587.7 MB 10.5 MB/s eta 0:00:26\n",
      "     ------------------- ----------------- 317.2/587.7 MB 10.5 MB/s eta 0:00:26\n",
      "     -------------------- ---------------- 319.0/587.7 MB 10.5 MB/s eta 0:00:26\n",
      "     -------------------- ---------------- 321.4/587.7 MB 10.5 MB/s eta 0:00:26\n",
      "     -------------------- ---------------- 323.7/587.7 MB 10.5 MB/s eta 0:00:26\n",
      "     -------------------- ---------------- 325.1/587.7 MB 10.5 MB/s eta 0:00:26\n",
      "     -------------------- ---------------- 327.4/587.7 MB 10.5 MB/s eta 0:00:25\n",
      "     -------------------- ---------------- 330.0/587.7 MB 10.5 MB/s eta 0:00:25\n",
      "     -------------------- ---------------- 332.7/587.7 MB 10.5 MB/s eta 0:00:25\n",
      "     --------------------- --------------- 335.3/587.7 MB 10.5 MB/s eta 0:00:25\n",
      "     --------------------- --------------- 336.6/587.7 MB 10.5 MB/s eta 0:00:25\n",
      "     --------------------- --------------- 339.2/587.7 MB 10.4 MB/s eta 0:00:24\n",
      "     --------------------- --------------- 341.6/587.7 MB 10.4 MB/s eta 0:00:24\n",
      "     --------------------- --------------- 344.2/587.7 MB 10.4 MB/s eta 0:00:24\n",
      "     --------------------- --------------- 346.0/587.7 MB 10.5 MB/s eta 0:00:24\n",
      "     --------------------- --------------- 348.1/587.7 MB 10.4 MB/s eta 0:00:23\n",
      "     ---------------------- -------------- 350.5/587.7 MB 10.4 MB/s eta 0:00:23\n",
      "     ---------------------- -------------- 353.1/587.7 MB 10.5 MB/s eta 0:00:23\n",
      "     ---------------------- -------------- 355.5/587.7 MB 10.5 MB/s eta 0:00:23\n",
      "     ---------------------- -------------- 356.8/587.7 MB 10.5 MB/s eta 0:00:23\n",
      "     ---------------------- -------------- 359.1/587.7 MB 10.4 MB/s eta 0:00:22\n",
      "     ---------------------- -------------- 361.5/587.7 MB 10.4 MB/s eta 0:00:22\n",
      "     ---------------------- -------------- 364.1/587.7 MB 10.4 MB/s eta 0:00:22\n",
      "     ----------------------- ------------- 366.5/587.7 MB 10.4 MB/s eta 0:00:22\n",
      "     ----------------------- ------------- 368.1/587.7 MB 10.4 MB/s eta 0:00:22\n",
      "     ----------------------- ------------- 370.7/587.7 MB 10.5 MB/s eta 0:00:21\n",
      "     ----------------------- ------------- 373.0/587.7 MB 10.5 MB/s eta 0:00:21\n",
      "     ----------------------- ------------- 375.7/587.7 MB 10.5 MB/s eta 0:00:21\n",
      "     ----------------------- ------------- 377.5/587.7 MB 10.5 MB/s eta 0:00:21\n",
      "     ----------------------- ------------- 379.6/587.7 MB 10.5 MB/s eta 0:00:20\n",
      "     ------------------------ ------------ 381.9/587.7 MB 10.5 MB/s eta 0:00:20\n",
      "     ------------------------ ------------ 384.6/587.7 MB 10.5 MB/s eta 0:00:20\n",
      "     ------------------------ ------------ 386.9/587.7 MB 10.5 MB/s eta 0:00:20\n",
      "     ------------------------ ------------ 388.5/587.7 MB 10.5 MB/s eta 0:00:20\n",
      "     ------------------------ ------------ 391.1/587.7 MB 10.5 MB/s eta 0:00:19\n",
      "     ------------------------ ------------ 393.5/587.7 MB 10.5 MB/s eta 0:00:19\n",
      "     ------------------------ ------------ 396.1/587.7 MB 10.5 MB/s eta 0:00:19\n",
      "     ------------------------- ----------- 398.5/587.7 MB 10.5 MB/s eta 0:00:19\n",
      "     ------------------------- ----------- 400.0/587.7 MB 10.4 MB/s eta 0:00:18\n",
      "     ------------------------- ----------- 402.7/587.7 MB 10.4 MB/s eta 0:00:18\n",
      "     ------------------------- ----------- 405.3/587.7 MB 10.5 MB/s eta 0:00:18\n",
      "     ------------------------- ----------- 407.6/587.7 MB 10.5 MB/s eta 0:00:18\n",
      "     ------------------------- ----------- 409.2/587.7 MB 10.5 MB/s eta 0:00:18\n",
      "     ------------------------- ----------- 411.8/587.7 MB 10.5 MB/s eta 0:00:17\n",
      "     -------------------------- ---------- 414.4/587.7 MB 10.5 MB/s eta 0:00:17\n",
      "     -------------------------- ---------- 416.8/587.7 MB 10.5 MB/s eta 0:00:17\n",
      "     -------------------------- ---------- 419.4/587.7 MB 10.5 MB/s eta 0:00:16\n",
      "     -------------------------- ---------- 421.0/587.7 MB 10.5 MB/s eta 0:00:16\n",
      "     -------------------------- ---------- 423.6/587.7 MB 10.5 MB/s eta 0:00:16\n",
      "     -------------------------- ---------- 426.2/587.7 MB 10.5 MB/s eta 0:00:16\n",
      "     --------------------------- --------- 428.9/587.7 MB 10.5 MB/s eta 0:00:16\n",
      "     --------------------------- --------- 430.2/587.7 MB 10.5 MB/s eta 0:00:16\n",
      "     --------------------------- --------- 432.5/587.7 MB 10.5 MB/s eta 0:00:15\n",
      "     --------------------------- --------- 435.2/587.7 MB 10.5 MB/s eta 0:00:15\n",
      "     --------------------------- --------- 437.8/587.7 MB 10.5 MB/s eta 0:00:15\n",
      "     --------------------------- --------- 440.4/587.7 MB 10.5 MB/s eta 0:00:14\n",
      "     --------------------------- --------- 442.0/587.7 MB 10.5 MB/s eta 0:00:14\n",
      "     --------------------------- --------- 444.3/587.7 MB 10.5 MB/s eta 0:00:14\n",
      "     ---------------------------- -------- 447.0/587.7 MB 10.5 MB/s eta 0:00:14\n",
      "     ---------------------------- -------- 449.6/587.7 MB 10.5 MB/s eta 0:00:14\n",
      "     ---------------------------- -------- 450.9/587.7 MB 10.5 MB/s eta 0:00:13\n",
      "     ---------------------------- -------- 453.2/587.7 MB 10.5 MB/s eta 0:00:13\n",
      "     ---------------------------- -------- 455.9/587.7 MB 10.5 MB/s eta 0:00:13\n",
      "     ---------------------------- -------- 458.5/587.7 MB 10.5 MB/s eta 0:00:13\n",
      "     ----------------------------- ------- 460.8/587.7 MB 10.5 MB/s eta 0:00:13\n",
      "     ----------------------------- ------- 463.2/587.7 MB 10.5 MB/s eta 0:00:12\n",
      "     ----------------------------- ------- 465.8/587.7 MB 10.5 MB/s eta 0:00:12\n",
      "     ----------------------------- ------- 468.5/587.7 MB 10.5 MB/s eta 0:00:12\n",
      "     ----------------------------- ------- 470.8/587.7 MB 10.5 MB/s eta 0:00:12\n",
      "     ----------------------------- ------- 473.4/587.7 MB 10.6 MB/s eta 0:00:11\n",
      "     ----------------------------- ------- 476.1/587.7 MB 10.6 MB/s eta 0:00:11\n",
      "     ------------------------------ ------ 478.7/587.7 MB 10.6 MB/s eta 0:00:11\n",
      "     ------------------------------ ------ 481.3/587.7 MB 10.6 MB/s eta 0:00:11\n",
      "     ------------------------------ ------ 483.9/587.7 MB 10.6 MB/s eta 0:00:10\n",
      "     ------------------------------ ------ 486.3/587.7 MB 10.6 MB/s eta 0:00:10\n",
      "     ------------------------------ ------ 488.9/587.7 MB 10.6 MB/s eta 0:00:10\n",
      "     ------------------------------ ------ 491.5/587.7 MB 10.6 MB/s eta 0:00:10\n",
      "     ------------------------------- ----- 494.1/587.7 MB 10.7 MB/s eta 0:00:09\n",
      "     ------------------------------- ----- 496.5/587.7 MB 10.7 MB/s eta 0:00:09\n",
      "     ------------------------------- ----- 499.1/587.7 MB 10.7 MB/s eta 0:00:09\n",
      "     ------------------------------- ----- 501.7/587.7 MB 10.7 MB/s eta 0:00:09\n",
      "     ------------------------------- ----- 504.4/587.7 MB 10.7 MB/s eta 0:00:08\n",
      "     ------------------------------- ----- 506.7/587.7 MB 10.7 MB/s eta 0:00:08\n",
      "     -------------------------------- ---- 509.3/587.7 MB 10.7 MB/s eta 0:00:08\n",
      "     -------------------------------- ---- 511.7/587.7 MB 10.7 MB/s eta 0:00:08\n",
      "     -------------------------------- ---- 514.3/587.7 MB 10.7 MB/s eta 0:00:07\n",
      "     -------------------------------- ---- 516.9/587.7 MB 10.7 MB/s eta 0:00:07\n",
      "     -------------------------------- ---- 519.6/587.7 MB 10.8 MB/s eta 0:00:07\n",
      "     -------------------------------- ---- 522.2/587.7 MB 10.8 MB/s eta 0:00:07\n",
      "     --------------------------------- --- 524.6/587.7 MB 10.9 MB/s eta 0:00:06\n",
      "     --------------------------------- --- 527.2/587.7 MB 10.9 MB/s eta 0:00:06\n",
      "     --------------------------------- --- 529.5/587.7 MB 10.9 MB/s eta 0:00:06\n",
      "     --------------------------------- --- 532.2/587.7 MB 10.9 MB/s eta 0:00:06\n",
      "     --------------------------------- --- 534.5/587.7 MB 10.9 MB/s eta 0:00:05\n",
      "     --------------------------------- --- 537.1/587.7 MB 10.9 MB/s eta 0:00:05\n",
      "     --------------------------------- --- 539.5/587.7 MB 10.9 MB/s eta 0:00:05\n",
      "     ---------------------------------- -- 542.1/587.7 MB 10.9 MB/s eta 0:00:05\n",
      "     ---------------------------------- -- 544.5/587.7 MB 10.9 MB/s eta 0:00:04\n",
      "     ---------------------------------- -- 547.1/587.7 MB 11.0 MB/s eta 0:00:04\n",
      "     ---------------------------------- -- 549.5/587.7 MB 11.0 MB/s eta 0:00:04\n",
      "     ---------------------------------- -- 551.8/587.7 MB 11.0 MB/s eta 0:00:04\n",
      "     ---------------------------------- -- 554.2/587.7 MB 11.0 MB/s eta 0:00:04\n",
      "     ----------------------------------- - 556.5/587.7 MB 11.0 MB/s eta 0:00:03\n",
      "     ----------------------------------- - 559.2/587.7 MB 11.0 MB/s eta 0:00:03\n",
      "     ----------------------------------- - 561.8/587.7 MB 11.0 MB/s eta 0:00:03\n",
      "     ----------------------------------- - 564.4/587.7 MB 11.0 MB/s eta 0:00:03\n",
      "     ----------------------------------- - 567.0/587.7 MB 11.1 MB/s eta 0:00:02\n",
      "     ----------------------------------- - 569.6/587.7 MB 11.1 MB/s eta 0:00:02\n",
      "     ------------------------------------  572.0/587.7 MB 11.1 MB/s eta 0:00:02\n",
      "     ------------------------------------  574.6/587.7 MB 11.1 MB/s eta 0:00:02\n",
      "     ------------------------------------  577.0/587.7 MB 11.1 MB/s eta 0:00:01\n",
      "     ------------------------------------  579.6/587.7 MB 11.1 MB/s eta 0:00:01\n",
      "     ------------------------------------  582.0/587.7 MB 11.2 MB/s eta 0:00:01\n",
      "     ------------------------------------  584.6/587.7 MB 11.2 MB/s eta 0:00:01\n",
      "     ------------------------------------  586.9/587.7 MB 11.2 MB/s eta 0:00:01\n",
      "     ------------------------------------  587.5/587.7 MB 11.2 MB/s eta 0:00:01\n",
      "     ------------------------------------  587.5/587.7 MB 11.2 MB/s eta 0:00:01\n",
      "     ------------------------------------  587.5/587.7 MB 11.2 MB/s eta 0:00:01\n",
      "     ------------------------------------  587.5/587.7 MB 11.2 MB/s eta 0:00:01\n",
      "     ------------------------------------  587.5/587.7 MB 11.2 MB/s eta 0:00:01\n",
      "     ------------------------------------- 587.7/587.7 MB 10.7 MB/s eta 0:00:00\n",
      "Requirement already satisfied: spacy<3.8.0,>=3.7.2 in c:\\users\\mahfooz alam\\anaconda3\\lib\\site-packages (from en-core-web-lg==3.7.1) (3.7.6)\n",
      "Requirement already satisfied: spacy-legacy<3.1.0,>=3.0.11 in c:\\users\\mahfooz alam\\anaconda3\\lib\\site-packages (from spacy<3.8.0,>=3.7.2->en-core-web-lg==3.7.1) (3.0.12)\n",
      "Requirement already satisfied: spacy-loggers<2.0.0,>=1.0.0 in c:\\users\\mahfooz alam\\anaconda3\\lib\\site-packages (from spacy<3.8.0,>=3.7.2->en-core-web-lg==3.7.1) (1.0.5)\n",
      "Requirement already satisfied: murmurhash<1.1.0,>=0.28.0 in c:\\users\\mahfooz alam\\anaconda3\\lib\\site-packages (from spacy<3.8.0,>=3.7.2->en-core-web-lg==3.7.1) (1.0.10)\n",
      "Requirement already satisfied: cymem<2.1.0,>=2.0.2 in c:\\users\\mahfooz alam\\anaconda3\\lib\\site-packages (from spacy<3.8.0,>=3.7.2->en-core-web-lg==3.7.1) (2.0.8)\n",
      "Requirement already satisfied: preshed<3.1.0,>=3.0.2 in c:\\users\\mahfooz alam\\anaconda3\\lib\\site-packages (from spacy<3.8.0,>=3.7.2->en-core-web-lg==3.7.1) (3.0.9)\n",
      "Requirement already satisfied: thinc<8.3.0,>=8.2.2 in c:\\users\\mahfooz alam\\anaconda3\\lib\\site-packages (from spacy<3.8.0,>=3.7.2->en-core-web-lg==3.7.1) (8.2.5)\n",
      "Requirement already satisfied: wasabi<1.2.0,>=0.9.1 in c:\\users\\mahfooz alam\\anaconda3\\lib\\site-packages (from spacy<3.8.0,>=3.7.2->en-core-web-lg==3.7.1) (1.1.3)\n",
      "Requirement already satisfied: srsly<3.0.0,>=2.4.3 in c:\\users\\mahfooz alam\\anaconda3\\lib\\site-packages (from spacy<3.8.0,>=3.7.2->en-core-web-lg==3.7.1) (2.4.8)\n",
      "Requirement already satisfied: catalogue<2.1.0,>=2.0.6 in c:\\users\\mahfooz alam\\anaconda3\\lib\\site-packages (from spacy<3.8.0,>=3.7.2->en-core-web-lg==3.7.1) (2.0.10)\n",
      "Requirement already satisfied: weasel<0.5.0,>=0.1.0 in c:\\users\\mahfooz alam\\anaconda3\\lib\\site-packages (from spacy<3.8.0,>=3.7.2->en-core-web-lg==3.7.1) (0.4.1)\n",
      "Requirement already satisfied: typer<1.0.0,>=0.3.0 in c:\\users\\mahfooz alam\\anaconda3\\lib\\site-packages (from spacy<3.8.0,>=3.7.2->en-core-web-lg==3.7.1) (0.12.5)\n",
      "Requirement already satisfied: tqdm<5.0.0,>=4.38.0 in c:\\users\\mahfooz alam\\anaconda3\\lib\\site-packages (from spacy<3.8.0,>=3.7.2->en-core-web-lg==3.7.1) (4.64.1)\n",
      "Requirement already satisfied: requests<3.0.0,>=2.13.0 in c:\\users\\mahfooz alam\\anaconda3\\lib\\site-packages (from spacy<3.8.0,>=3.7.2->en-core-web-lg==3.7.1) (2.31.0)\n",
      "Requirement already satisfied: pydantic!=1.8,!=1.8.1,<3.0.0,>=1.7.4 in c:\\users\\mahfooz alam\\anaconda3\\lib\\site-packages (from spacy<3.8.0,>=3.7.2->en-core-web-lg==3.7.1) (2.6.4)\n",
      "Requirement already satisfied: jinja2 in c:\\users\\mahfooz alam\\anaconda3\\lib\\site-packages (from spacy<3.8.0,>=3.7.2->en-core-web-lg==3.7.1) (3.1.2)\n",
      "Requirement already satisfied: setuptools in c:\\users\\mahfooz alam\\anaconda3\\lib\\site-packages (from spacy<3.8.0,>=3.7.2->en-core-web-lg==3.7.1) (68.1.2)\n",
      "Requirement already satisfied: packaging>=20.0 in c:\\users\\mahfooz alam\\anaconda3\\lib\\site-packages (from spacy<3.8.0,>=3.7.2->en-core-web-lg==3.7.1) (23.2)\n",
      "Requirement already satisfied: langcodes<4.0.0,>=3.2.0 in c:\\users\\mahfooz alam\\anaconda3\\lib\\site-packages (from spacy<3.8.0,>=3.7.2->en-core-web-lg==3.7.1) (3.4.0)\n",
      "Requirement already satisfied: numpy>=1.19.0 in c:\\users\\mahfooz alam\\anaconda3\\lib\\site-packages (from spacy<3.8.0,>=3.7.2->en-core-web-lg==3.7.1) (1.26.4)\n",
      "Requirement already satisfied: language-data>=1.2 in c:\\users\\mahfooz alam\\anaconda3\\lib\\site-packages (from langcodes<4.0.0,>=3.2.0->spacy<3.8.0,>=3.7.2->en-core-web-lg==3.7.1) (1.2.0)\n",
      "Requirement already satisfied: annotated-types>=0.4.0 in c:\\users\\mahfooz alam\\anaconda3\\lib\\site-packages (from pydantic!=1.8,!=1.8.1,<3.0.0,>=1.7.4->spacy<3.8.0,>=3.7.2->en-core-web-lg==3.7.1) (0.6.0)\n",
      "Requirement already satisfied: pydantic-core==2.16.3 in c:\\users\\mahfooz alam\\anaconda3\\lib\\site-packages (from pydantic!=1.8,!=1.8.1,<3.0.0,>=1.7.4->spacy<3.8.0,>=3.7.2->en-core-web-lg==3.7.1) (2.16.3)\n",
      "Requirement already satisfied: typing-extensions>=4.6.1 in c:\\users\\mahfooz alam\\anaconda3\\lib\\site-packages (from pydantic!=1.8,!=1.8.1,<3.0.0,>=1.7.4->spacy<3.8.0,>=3.7.2->en-core-web-lg==3.7.1) (4.10.0)\n",
      "Requirement already satisfied: charset-normalizer<4,>=2 in c:\\users\\mahfooz alam\\anaconda3\\lib\\site-packages (from requests<3.0.0,>=2.13.0->spacy<3.8.0,>=3.7.2->en-core-web-lg==3.7.1) (2.0.4)\n",
      "Requirement already satisfied: idna<4,>=2.5 in c:\\users\\mahfooz alam\\anaconda3\\lib\\site-packages (from requests<3.0.0,>=2.13.0->spacy<3.8.0,>=3.7.2->en-core-web-lg==3.7.1) (3.4)\n",
      "Requirement already satisfied: urllib3<3,>=1.21.1 in c:\\users\\mahfooz alam\\anaconda3\\lib\\site-packages (from requests<3.0.0,>=2.13.0->spacy<3.8.0,>=3.7.2->en-core-web-lg==3.7.1) (1.26.14)\n",
      "Requirement already satisfied: certifi>=2017.4.17 in c:\\users\\mahfooz alam\\anaconda3\\lib\\site-packages (from requests<3.0.0,>=2.13.0->spacy<3.8.0,>=3.7.2->en-core-web-lg==3.7.1) (2023.5.7)\n",
      "Requirement already satisfied: blis<0.8.0,>=0.7.8 in c:\\users\\mahfooz alam\\anaconda3\\lib\\site-packages (from thinc<8.3.0,>=8.2.2->spacy<3.8.0,>=3.7.2->en-core-web-lg==3.7.1) (0.7.11)\n",
      "Requirement already satisfied: confection<1.0.0,>=0.0.1 in c:\\users\\mahfooz alam\\anaconda3\\lib\\site-packages (from thinc<8.3.0,>=8.2.2->spacy<3.8.0,>=3.7.2->en-core-web-lg==3.7.1) (0.1.5)\n",
      "Requirement already satisfied: colorama in c:\\users\\mahfooz alam\\anaconda3\\lib\\site-packages (from tqdm<5.0.0,>=4.38.0->spacy<3.8.0,>=3.7.2->en-core-web-lg==3.7.1) (0.4.6)\n",
      "Requirement already satisfied: click>=8.0.0 in c:\\users\\mahfooz alam\\anaconda3\\lib\\site-packages (from typer<1.0.0,>=0.3.0->spacy<3.8.0,>=3.7.2->en-core-web-lg==3.7.1) (8.0.4)\n",
      "Requirement already satisfied: shellingham>=1.3.0 in c:\\users\\mahfooz alam\\anaconda3\\lib\\site-packages (from typer<1.0.0,>=0.3.0->spacy<3.8.0,>=3.7.2->en-core-web-lg==3.7.1) (1.5.4)\n",
      "Requirement already satisfied: rich>=10.11.0 in c:\\users\\mahfooz alam\\anaconda3\\lib\\site-packages (from typer<1.0.0,>=0.3.0->spacy<3.8.0,>=3.7.2->en-core-web-lg==3.7.1) (13.6.0)\n",
      "Requirement already satisfied: cloudpathlib<1.0.0,>=0.7.0 in c:\\users\\mahfooz alam\\anaconda3\\lib\\site-packages (from weasel<0.5.0,>=0.1.0->spacy<3.8.0,>=3.7.2->en-core-web-lg==3.7.1) (0.19.0)\n",
      "Requirement already satisfied: smart-open<8.0.0,>=5.2.1 in c:\\users\\mahfooz alam\\anaconda3\\lib\\site-packages (from weasel<0.5.0,>=0.1.0->spacy<3.8.0,>=3.7.2->en-core-web-lg==3.7.1) (5.2.1)\n",
      "Requirement already satisfied: MarkupSafe>=2.0 in c:\\users\\mahfooz alam\\anaconda3\\lib\\site-packages (from jinja2->spacy<3.8.0,>=3.7.2->en-core-web-lg==3.7.1) (2.1.1)\n",
      "Requirement already satisfied: marisa-trie>=0.7.7 in c:\\users\\mahfooz alam\\anaconda3\\lib\\site-packages (from language-data>=1.2->langcodes<4.0.0,>=3.2.0->spacy<3.8.0,>=3.7.2->en-core-web-lg==3.7.1) (1.2.0)\n",
      "Requirement already satisfied: markdown-it-py>=2.2.0 in c:\\users\\mahfooz alam\\anaconda3\\lib\\site-packages (from rich>=10.11.0->typer<1.0.0,>=0.3.0->spacy<3.8.0,>=3.7.2->en-core-web-lg==3.7.1) (3.0.0)\n",
      "Requirement already satisfied: pygments<3.0.0,>=2.13.0 in c:\\users\\mahfooz alam\\anaconda3\\lib\\site-packages (from rich>=10.11.0->typer<1.0.0,>=0.3.0->spacy<3.8.0,>=3.7.2->en-core-web-lg==3.7.1) (2.16.1)\n",
      "Requirement already satisfied: mdurl~=0.1 in c:\\users\\mahfooz alam\\anaconda3\\lib\\site-packages (from markdown-it-py>=2.2.0->rich>=10.11.0->typer<1.0.0,>=0.3.0->spacy<3.8.0,>=3.7.2->en-core-web-lg==3.7.1) (0.1.2)\n",
      "Installing collected packages: en-core-web-lg\n",
      "Successfully installed en-core-web-lg-3.7.1\n",
      "\u001b[38;5;2m[+] Download and installation successful\u001b[0m\n",
      "You can now load the package via spacy.load('en_core_web_lg')\n"
     ]
    },
    {
     "name": "stderr",
     "output_type": "stream",
     "text": [
      "WARNING: Ignoring invalid distribution -illow (c:\\users\\mahfooz alam\\anaconda3\\lib\\site-packages)\n",
      "WARNING: Ignoring invalid distribution -rotobuf (c:\\users\\mahfooz alam\\anaconda3\\lib\\site-packages)\n",
      "WARNING: Ignoring invalid distribution -illow (c:\\users\\mahfooz alam\\anaconda3\\lib\\site-packages)\n",
      "WARNING: Ignoring invalid distribution -rotobuf (c:\\users\\mahfooz alam\\anaconda3\\lib\\site-packages)\n",
      "WARNING: Ignoring invalid distribution -illow (c:\\users\\mahfooz alam\\anaconda3\\lib\\site-packages)\n",
      "WARNING: Ignoring invalid distribution -rotobuf (c:\\users\\mahfooz alam\\anaconda3\\lib\\site-packages)\n"
     ]
    }
   ],
   "source": [
    "!python -m spacy download en_core_web_lg"
   ]
  },
  {
   "cell_type": "code",
   "execution_count": 5,
   "id": "c34f6e89",
   "metadata": {},
   "outputs": [],
   "source": [
    "nlp = spacy.load('en_core_web_lg')"
   ]
  },
  {
   "cell_type": "code",
   "execution_count": 7,
   "id": "5fbe6a18",
   "metadata": {},
   "outputs": [],
   "source": [
    "text =nlp(\"I'm looking for AI/ML interships kindly hire me!!\")"
   ]
  },
  {
   "cell_type": "code",
   "execution_count": 8,
   "id": "f3200714",
   "metadata": {},
   "outputs": [
    {
     "data": {
      "text/plain": [
       "I'm looking for AI/ML interships kindly hire me!!"
      ]
     },
     "execution_count": 8,
     "metadata": {},
     "output_type": "execute_result"
    }
   ],
   "source": [
    "text"
   ]
  },
  {
   "cell_type": "markdown",
   "id": "1bb60a32",
   "metadata": {},
   "source": [
    "## Tokenization"
   ]
  },
  {
   "cell_type": "code",
   "execution_count": 9,
   "id": "8f7e0db0",
   "metadata": {},
   "outputs": [
    {
     "name": "stdout",
     "output_type": "stream",
     "text": [
      "I\n",
      "'m\n",
      "looking\n",
      "for\n",
      "AI\n",
      "/\n",
      "ML\n",
      "interships\n",
      "kindly\n",
      "hire\n",
      "me\n",
      "!\n",
      "!\n"
     ]
    }
   ],
   "source": [
    "for token in text:\n",
    "    print(token)"
   ]
  },
  {
   "cell_type": "code",
   "execution_count": 11,
   "id": "ec272556",
   "metadata": {},
   "outputs": [
    {
     "name": "stdout",
     "output_type": "stream",
     "text": [
      "<class 'str'>\n",
      "<class 'str'>\n",
      "<class 'str'>\n",
      "<class 'str'>\n",
      "<class 'str'>\n",
      "<class 'str'>\n",
      "<class 'str'>\n",
      "<class 'str'>\n",
      "<class 'str'>\n",
      "<class 'str'>\n",
      "<class 'str'>\n",
      "<class 'str'>\n",
      "<class 'str'>\n"
     ]
    }
   ],
   "source": [
    "for token in text:\n",
    "    print(type(token.text))"
   ]
  },
  {
   "cell_type": "code",
   "execution_count": 12,
   "id": "43550209",
   "metadata": {},
   "outputs": [],
   "source": [
    "text = nlp(\"The cost of Mac Book is 900$\")"
   ]
  },
  {
   "cell_type": "code",
   "execution_count": 13,
   "id": "2651c643",
   "metadata": {},
   "outputs": [
    {
     "name": "stdout",
     "output_type": "stream",
     "text": [
      "The\n",
      "cost\n",
      "of\n",
      "Mac\n",
      "Book\n",
      "is\n",
      "900\n",
      "$\n"
     ]
    }
   ],
   "source": [
    "for token in text:\n",
    "    print(token.text)"
   ]
  },
  {
   "cell_type": "markdown",
   "id": "89166e3b",
   "metadata": {},
   "source": [
    "## POS(Parts of speech)"
   ]
  },
  {
   "cell_type": "code",
   "execution_count": 14,
   "id": "ffbae093",
   "metadata": {},
   "outputs": [
    {
     "name": "stdout",
     "output_type": "stream",
     "text": [
      "The 90\n",
      "cost 92\n",
      "of 85\n",
      "Mac 96\n",
      "Book 96\n",
      "is 87\n",
      "900 93\n",
      "$ 99\n"
     ]
    }
   ],
   "source": [
    "for token in text:\n",
    "    print(token.text, token.pos)"
   ]
  },
  {
   "cell_type": "code",
   "execution_count": 15,
   "id": "3cff0495",
   "metadata": {},
   "outputs": [
    {
     "name": "stdout",
     "output_type": "stream",
     "text": [
      "The DET\n",
      "cost NOUN\n",
      "of ADP\n",
      "Mac PROPN\n",
      "Book PROPN\n",
      "is AUX\n",
      "900 NUM\n",
      "$ SYM\n"
     ]
    }
   ],
   "source": [
    "for token in text:\n",
    "    print(token.text, token.pos_)"
   ]
  },
  {
   "cell_type": "markdown",
   "id": "c279ea3a",
   "metadata": {},
   "source": [
    "## Sentence Tokenization"
   ]
  },
  {
   "cell_type": "code",
   "execution_count": 16,
   "id": "c4a6d385",
   "metadata": {},
   "outputs": [],
   "source": [
    "txt = nlp(\"This is a sentence one. This is a sentence second. And this is a final sentence.\")"
   ]
  },
  {
   "cell_type": "code",
   "execution_count": 17,
   "id": "38b80c47",
   "metadata": {},
   "outputs": [
    {
     "name": "stdout",
     "output_type": "stream",
     "text": [
      "This is a sentence one.\n",
      "This is a sentence second.\n",
      "And this is a final sentence.\n"
     ]
    }
   ],
   "source": [
    "for sent in txt.sents:\n",
    "    print(sent)"
   ]
  },
  {
   "cell_type": "code",
   "execution_count": 20,
   "id": "95caee3f",
   "metadata": {},
   "outputs": [
    {
     "name": "stderr",
     "output_type": "stream",
     "text": [
      "[nltk_data] Downloading package punkt to C:\\Users\\MAHFOOZ\n",
      "[nltk_data]     ALAM\\AppData\\Roaming\\nltk_data...\n",
      "[nltk_data]   Package punkt is already up-to-date!\n"
     ]
    },
    {
     "data": {
      "text/plain": [
       "True"
      ]
     },
     "execution_count": 20,
     "metadata": {},
     "output_type": "execute_result"
    }
   ],
   "source": [
    "from nltk.tokenize import sent_tokenize, word_tokenize\n",
    "\n",
    "nltk.download('punkt')"
   ]
  },
  {
   "cell_type": "code",
   "execution_count": 21,
   "id": "e7944e7a",
   "metadata": {},
   "outputs": [
    {
     "data": {
      "text/plain": [
       "['This is a sentence one.',\n",
       " 'This is a sentence second.',\n",
       " 'And this is a final sentence.']"
      ]
     },
     "execution_count": 21,
     "metadata": {},
     "output_type": "execute_result"
    }
   ],
   "source": [
    "sent_tokenize(\"This is a sentence one. This is a sentence second. And this is a final sentence.\")"
   ]
  },
  {
   "cell_type": "code",
   "execution_count": null,
   "id": "3618a7a9",
   "metadata": {},
   "outputs": [],
   "source": []
  },
  {
   "cell_type": "code",
   "execution_count": null,
   "id": "e1657687",
   "metadata": {},
   "outputs": [],
   "source": []
  },
  {
   "cell_type": "code",
   "execution_count": null,
   "id": "e2418c88",
   "metadata": {},
   "outputs": [],
   "source": []
  }
 ],
 "metadata": {
  "kernelspec": {
   "display_name": "Python 3 (ipykernel)",
   "language": "python",
   "name": "python3"
  },
  "language_info": {
   "codemirror_mode": {
    "name": "ipython",
    "version": 3
   },
   "file_extension": ".py",
   "mimetype": "text/x-python",
   "name": "python",
   "nbconvert_exporter": "python",
   "pygments_lexer": "ipython3",
   "version": "3.10.9"
  },
  "varInspector": {
   "cols": {
    "lenName": 16,
    "lenType": 16,
    "lenVar": 40
   },
   "kernels_config": {
    "python": {
     "delete_cmd_postfix": "",
     "delete_cmd_prefix": "del ",
     "library": "var_list.py",
     "varRefreshCmd": "print(var_dic_list())"
    },
    "r": {
     "delete_cmd_postfix": ") ",
     "delete_cmd_prefix": "rm(",
     "library": "var_list.r",
     "varRefreshCmd": "cat(var_dic_list()) "
    }
   },
   "types_to_exclude": [
    "module",
    "function",
    "builtin_function_or_method",
    "instance",
    "_Feature"
   ],
   "window_display": false
  }
 },
 "nbformat": 4,
 "nbformat_minor": 5
}
