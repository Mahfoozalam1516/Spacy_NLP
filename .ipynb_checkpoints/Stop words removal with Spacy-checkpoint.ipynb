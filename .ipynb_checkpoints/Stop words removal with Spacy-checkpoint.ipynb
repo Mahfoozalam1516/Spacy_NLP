{
 "cells": [
  {
   "cell_type": "code",
   "execution_count": 3,
   "id": "d39e00b8",
   "metadata": {},
   "outputs": [],
   "source": [
    "import spacy\n",
    "nlp = spacy.load('en_core_web_sm')"
   ]
  },
  {
   "cell_type": "code",
   "execution_count": 4,
   "id": "19069d35",
   "metadata": {},
   "outputs": [],
   "source": [
    "txt = '''\n",
    "\n",
    "Data Science is an interdisciplinary field that blends scientific methods, processes, algorithms, and systems to extract meaningful insights from structured and unstructured data. It encompasses a range of techniques from statistics, computer science, and domain-specific knowledge to interpret complex datasets. The process typically begins with data collection, where raw data is gathered from various sources. This is followed by data cleaning to preprocess and eliminate inconsistencies. Data analysis employs statistical and machine learning methods to uncover trends and patterns, while data visualization translates these insights into comprehensible visual formats, aiding in understanding and communication.\n",
    "\n",
    "Predictive modeling is another critical aspect, where models are built to forecast future outcomes based on historical data. Interpreting these data-driven insights allows for informed decision-making across various sectors. Tools and technologies integral to data science include programming languages like Python and R, along with libraries such as Pandas, NumPy, and Scikit-learn. Data visualization tools like Matplotlib, Seaborn, Tableau, and Power BI help in presenting data insights effectively. Big Data technologies like Hadoop and Spark are employed for handling large volumes of data, while databases such as SQL and NoSQL manage data storage and retrieval.\n",
    "\n",
    "The applications of data science are vast, impacting numerous industries. In business, it supports customer segmentation, sales forecasting, and market analysis. Healthcare benefits from predictive analytics for patient outcomes, drug discovery, and personalized medicine. In finance, data science aids in risk management, fraud detection, and algorithmic trading, while retail sectors use it for inventory management, recommendation systems, and analyzing customer sentiment.\n",
    "\n",
    "Key skills for data scientists include statistical analysis, programming proficiency, machine learning expertise, data wrangling capabilities, and domain-specific knowledge. Current trends in the field highlight the increasing role of AI and machine learning, the rise of Automated Machine Learning (AutoML) to streamline model building, the challenges and opportunities presented by big data, and the growing focus on ethical considerations, including bias, privacy, and transparency.\n",
    "'''"
   ]
  },
  {
   "cell_type": "code",
   "execution_count": 6,
   "id": "c7eba8a0",
   "metadata": {},
   "outputs": [
    {
     "data": {
      "text/plain": [
       "326"
      ]
     },
     "execution_count": 6,
     "metadata": {},
     "output_type": "execute_result"
    }
   ],
   "source": [
    "len(nlp.Defaults.stop_words)"
   ]
  },
  {
   "cell_type": "code",
   "execution_count": 7,
   "id": "8133b933",
   "metadata": {},
   "outputs": [
    {
     "data": {
      "text/plain": [
       "True"
      ]
     },
     "execution_count": 7,
     "metadata": {},
     "output_type": "execute_result"
    }
   ],
   "source": [
    "nlp.vocab['is'].is_stop"
   ]
  },
  {
   "cell_type": "code",
   "execution_count": 8,
   "id": "1258ff31",
   "metadata": {},
   "outputs": [
    {
     "data": {
      "text/plain": [
       "False"
      ]
     },
     "execution_count": 8,
     "metadata": {},
     "output_type": "execute_result"
    }
   ],
   "source": [
    "nlp.vocab['Data'].is_stop"
   ]
  },
  {
   "cell_type": "markdown",
   "id": "5684cf8b",
   "metadata": {},
   "source": [
    "## Adding Custom Words into the list of Stopwords"
   ]
  },
  {
   "cell_type": "code",
   "execution_count": 9,
   "id": "f12448f5",
   "metadata": {},
   "outputs": [
    {
     "data": {
      "text/plain": [
       "326"
      ]
     },
     "execution_count": 9,
     "metadata": {},
     "output_type": "execute_result"
    }
   ],
   "source": [
    "len(nlp.Defaults.stop_words)"
   ]
  },
  {
   "cell_type": "code",
   "execution_count": 10,
   "id": "053b04f5",
   "metadata": {},
   "outputs": [],
   "source": [
    "nlp.Defaults.stop_words.add('i.e')"
   ]
  },
  {
   "cell_type": "code",
   "execution_count": 11,
   "id": "b5ef8446",
   "metadata": {},
   "outputs": [],
   "source": [
    "nlp.vocab['i.e'].is_stop = True"
   ]
  },
  {
   "cell_type": "code",
   "execution_count": 12,
   "id": "5962c9c4",
   "metadata": {},
   "outputs": [
    {
     "data": {
      "text/plain": [
       "327"
      ]
     },
     "execution_count": 12,
     "metadata": {},
     "output_type": "execute_result"
    }
   ],
   "source": [
    "len(nlp.Defaults.stop_words)"
   ]
  },
  {
   "cell_type": "markdown",
   "id": "5fee205d",
   "metadata": {},
   "source": [
    "## Removing the Custom words from the list of stopwords"
   ]
  },
  {
   "cell_type": "code",
   "execution_count": 13,
   "id": "aa286f23",
   "metadata": {},
   "outputs": [
    {
     "data": {
      "text/plain": [
       "True"
      ]
     },
     "execution_count": 13,
     "metadata": {},
     "output_type": "execute_result"
    }
   ],
   "source": [
    "nlp.vocab['i.e'].is_stop"
   ]
  },
  {
   "cell_type": "code",
   "execution_count": 15,
   "id": "27295b05",
   "metadata": {},
   "outputs": [],
   "source": [
    "nlp.Defaults.stop_words.remove('i.e')\n",
    "nlp.vocab['i.e'].is_stop = False"
   ]
  },
  {
   "cell_type": "code",
   "execution_count": 16,
   "id": "93bf057e",
   "metadata": {},
   "outputs": [
    {
     "data": {
      "text/plain": [
       "False"
      ]
     },
     "execution_count": 16,
     "metadata": {},
     "output_type": "execute_result"
    }
   ],
   "source": [
    "nlp.vocab['i.e'].is_stop"
   ]
  },
  {
   "cell_type": "markdown",
   "id": "7ec84324",
   "metadata": {},
   "source": [
    "## Removing Stopwords from Corpus"
   ]
  },
  {
   "cell_type": "code",
   "execution_count": 17,
   "id": "c8e9c286",
   "metadata": {},
   "outputs": [
    {
     "data": {
      "text/plain": [
       "'\\n\\nData Science is an interdisciplinary field that blends scientific methods, processes, algorithms, and systems to extract meaningful insights from structured and unstructured data. It encompasses a range of techniques from statistics, computer science, and domain-specific knowledge to interpret complex datasets. The process typically begins with data collection, where raw data is gathered from various sources. This is followed by data cleaning to preprocess and eliminate inconsistencies. Data analysis employs statistical and machine learning methods to uncover trends and patterns, while data visualization translates these insights into comprehensible visual formats, aiding in understanding and communication.\\n\\nPredictive modeling is another critical aspect, where models are built to forecast future outcomes based on historical data. Interpreting these data-driven insights allows for informed decision-making across various sectors. Tools and technologies integral to data science include programming languages like Python and R, along with libraries such as Pandas, NumPy, and Scikit-learn. Data visualization tools like Matplotlib, Seaborn, Tableau, and Power BI help in presenting data insights effectively. Big Data technologies like Hadoop and Spark are employed for handling large volumes of data, while databases such as SQL and NoSQL manage data storage and retrieval.\\n\\nThe applications of data science are vast, impacting numerous industries. In business, it supports customer segmentation, sales forecasting, and market analysis. Healthcare benefits from predictive analytics for patient outcomes, drug discovery, and personalized medicine. In finance, data science aids in risk management, fraud detection, and algorithmic trading, while retail sectors use it for inventory management, recommendation systems, and analyzing customer sentiment.\\n\\nKey skills for data scientists include statistical analysis, programming proficiency, machine learning expertise, data wrangling capabilities, and domain-specific knowledge. Current trends in the field highlight the increasing role of AI and machine learning, the rise of Automated Machine Learning (AutoML) to streamline model building, the challenges and opportunities presented by big data, and the growing focus on ethical considerations, including bias, privacy, and transparency.\\n'"
      ]
     },
     "execution_count": 17,
     "metadata": {},
     "output_type": "execute_result"
    }
   ],
   "source": [
    "txt"
   ]
  },
  {
   "cell_type": "code",
   "execution_count": 25,
   "id": "b7abf353",
   "metadata": {},
   "outputs": [],
   "source": [
    "text = \"Data Science is an interdisciplinary field that combines scientific methods, processes, algorithms, and systems to derive meaningful insights from structured and unstructured data. It integrates techniques from statistics, computer science, and domain-specific knowledge to analyze complex datasets. The process typically starts with data collection, where raw data is gathered from various sources. This is followed by data cleaning to address inconsistencies and errors. Data analysis uses statistical and machine learning methods to uncover trends and patterns, and data visualization converts these insights into understandable visual formats, aiding in interpretation and communication.\""
   ]
  },
  {
   "cell_type": "code",
   "execution_count": 19,
   "id": "4c818618",
   "metadata": {},
   "outputs": [
    {
     "data": {
      "text/plain": [
       "'DataScienceisaninterdisciplinaryfieldthatblendsscientificmethods,processes,algorithms,andsystemstoextractmeaningfulinsightsfromstructuredandunstructureddata.Itencompassesarangeoftechniquesfromstatistics,computerscience,anddomain-specificknowledgetointerpretcomplexdatasets.Theprocesstypicallybeginswithdatacollection,whererawdataisgatheredfromvarioussources.Thisisfollowedbydatacleaningtopreprocessandeliminateinconsistencies.Dataanalysisemploysstatisticalandmachinelearningmethodstouncovertrendsandpatterns,whiledatavisualizationtranslatestheseinsightsintocomprehensiblevisualformats,aidinginunderstandingandcommunication.Predictivemodelingisanothercriticalaspect,wheremodelsarebuilttoforecastfutureoutcomesbasedonhistoricaldata.Interpretingthesedata-driveninsightsallowsforinformeddecision-makingacrossvarioussectors.ToolsandtechnologiesintegraltodatascienceincludeprogramminglanguageslikePythonandR,alongwithlibrariessuchasPandas,NumPy,andScikit-learn.DatavisualizationtoolslikeMatplotlib,Seaborn,Tableau,andPowerBIhelpinpresentingdatainsightseffectively.BigDatatechnologieslikeHadoopandSparkareemployedforhandlinglargevolumesofdata,whiledatabasessuchasSQLandNoSQLmanagedatastorageandretrieval.Theapplicationsofdatasciencearevast,impactingnumerousindustries.Inbusiness,itsupportscustomersegmentation,salesforecasting,andmarketanalysis.Healthcarebenefitsfrompredictiveanalyticsforpatientoutcomes,drugdiscovery,andpersonalizedmedicine.Infinance,datascienceaidsinriskmanagement,frauddetection,andalgorithmictrading,whileretailsectorsuseitforinventorymanagement,recommendationsystems,andanalyzingcustomersentiment.Keyskillsfordatascientistsincludestatisticalanalysis,programmingproficiency,machinelearningexpertise,datawranglingcapabilities,anddomain-specificknowledge.CurrenttrendsinthefieldhighlighttheincreasingroleofAIandmachinelearning,theriseofAutomatedMachineLearning(AutoML)tostreamlinemodelbuilding,thechallengesandopportunitiespresentedbybigdata,andthegrowingfocusonethicalconsiderations,includingbias,privacy,andtransparency.'"
      ]
     },
     "execution_count": 19,
     "metadata": {},
     "output_type": "execute_result"
    }
   ],
   "source": [
    "txt = txt.replace('\\n', '')\n",
    "txt = txt.replace('  ', '')\n",
    "txt = txt.strip()\n",
    "\n",
    "txt"
   ]
  },
  {
   "cell_type": "code",
   "execution_count": 26,
   "id": "ccdba730",
   "metadata": {},
   "outputs": [],
   "source": [
    "corp = nlp(text)"
   ]
  },
  {
   "cell_type": "code",
   "execution_count": 27,
   "id": "e1527f94",
   "metadata": {},
   "outputs": [
    {
     "data": {
      "text/plain": [
       "Data Science is an interdisciplinary field that combines scientific methods, processes, algorithms, and systems to derive meaningful insights from structured and unstructured data. It integrates techniques from statistics, computer science, and domain-specific knowledge to analyze complex datasets. The process typically starts with data collection, where raw data is gathered from various sources. This is followed by data cleaning to address inconsistencies and errors. Data analysis uses statistical and machine learning methods to uncover trends and patterns, and data visualization converts these insights into understandable visual formats, aiding in interpretation and communication."
      ]
     },
     "execution_count": 27,
     "metadata": {},
     "output_type": "execute_result"
    }
   ],
   "source": [
    "corp"
   ]
  },
  {
   "cell_type": "markdown",
   "id": "ac345271",
   "metadata": {},
   "source": [
    "## Finding stopwords from corpus"
   ]
  },
  {
   "cell_type": "code",
   "execution_count": 32,
   "id": "194725e6",
   "metadata": {},
   "outputs": [
    {
     "name": "stdout",
     "output_type": "stream",
     "text": [
      "{'is', 'The', 'an', 'and', 'to', 'It', 'various', 'by', 'from', 'where', 'that', 'in', 'into', 'with', 'This', 'these'}\n",
      "16\n"
     ]
    }
   ],
   "source": [
    "stop_words = set()\n",
    "\n",
    "for token in corp:\n",
    "    if token.is_stop:\n",
    "        stop_words.add(token.text)\n",
    "\n",
    "print(stop_words)\n",
    "print(len(stop_words))"
   ]
  },
  {
   "cell_type": "code",
   "execution_count": 31,
   "id": "50109910",
   "metadata": {},
   "outputs": [
    {
     "data": {
      "text/plain": [
       "30"
      ]
     },
     "execution_count": 31,
     "metadata": {},
     "output_type": "execute_result"
    }
   ],
   "source": [
    "len(stop_words)"
   ]
  },
  {
   "cell_type": "code",
   "execution_count": 34,
   "id": "c08ba755",
   "metadata": {},
   "outputs": [
    {
     "data": {
      "text/plain": [
       "'Data Science interdisciplinary field combines scientific methods , processes , algorithms , systems derive meaningful insights structured unstructured data . integrates techniques statistics , computer science , domain - specific knowledge analyze complex datasets . process typically starts data collection , raw data gathered sources . followed data cleaning address inconsistencies errors . Data analysis uses statistical machine learning methods uncover trends patterns , data visualization converts insights understandable visual formats , aiding interpretation communication .'"
      ]
     },
     "execution_count": 34,
     "metadata": {},
     "output_type": "execute_result"
    }
   ],
   "source": [
    "' '.join([token.text for token in corp if not token.is_stop])"
   ]
  },
  {
   "cell_type": "code",
   "execution_count": null,
   "id": "bc4234f3",
   "metadata": {},
   "outputs": [],
   "source": []
  }
 ],
 "metadata": {
  "kernelspec": {
   "display_name": "Python 3 (ipykernel)",
   "language": "python",
   "name": "python3"
  },
  "language_info": {
   "codemirror_mode": {
    "name": "ipython",
    "version": 3
   },
   "file_extension": ".py",
   "mimetype": "text/x-python",
   "name": "python",
   "nbconvert_exporter": "python",
   "pygments_lexer": "ipython3",
   "version": "3.10.9"
  },
  "varInspector": {
   "cols": {
    "lenName": 16,
    "lenType": 16,
    "lenVar": 40
   },
   "kernels_config": {
    "python": {
     "delete_cmd_postfix": "",
     "delete_cmd_prefix": "del ",
     "library": "var_list.py",
     "varRefreshCmd": "print(var_dic_list())"
    },
    "r": {
     "delete_cmd_postfix": ") ",
     "delete_cmd_prefix": "rm(",
     "library": "var_list.r",
     "varRefreshCmd": "cat(var_dic_list()) "
    }
   },
   "types_to_exclude": [
    "module",
    "function",
    "builtin_function_or_method",
    "instance",
    "_Feature"
   ],
   "window_display": false
  }
 },
 "nbformat": 4,
 "nbformat_minor": 5
}
